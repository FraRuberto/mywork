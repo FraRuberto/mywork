{
 "cells": [
  {
   "cell_type": "markdown",
   "metadata": {},
   "source": [
    "# Palmer Penguins \n",
    "********************************\n",
    "\n",
    "Welcome to this analysis of the Palmer Penguins dataset! This notebook contains my analysis of the famous Palmer Penguins dataset.\n",
    "\n",
    "In this notebook, we will explore and analyze a comprehensive set of data related to various penguin species. The dataset encompasses information on key variables such as species, island of origin, bill dimensions, flipper length, body mass, and sex.\n",
    "\n",
    "Throughout the analysis, we will delve into the characteristics of each variable, aiming to uncover patterns, insights, and relationships within the data. Let's embark on this journey to gain a comprehensive understanding of the Palmer Penguins dataset.\n",
    "\n",
    "![Penguins](https://miro.medium.com/v2/resize:fit:1100/format:webp/1*KU-V8tWWQU3nDtw12-bQ_g.png)\n",
    "\n",
    "The Penguins dataset is available on [GitHub](https://allisonhorst.github.io/palmerpenguins/)\n"
   ]
  },
  {
   "cell_type": "code",
   "execution_count": 3,
   "metadata": {},
   "outputs": [],
   "source": [
    "# Data frames. \n",
    "import pandas as pd "
   ]
  },
  {
   "cell_type": "code",
   "execution_count": 4,
   "metadata": {},
   "outputs": [],
   "source": [
    "# Load the penguins data set.\n",
    "df = pd.read_csv('https://raw.githubusercontent.com/mwaskom/seaborn-data/master/penguins.csv')"
   ]
  },
  {
   "cell_type": "markdown",
   "metadata": {},
   "source": [
    "# Overview of the Data Set and Variables\n",
    "****************************\n",
    "This section of the notebook is dedicated to providing a concise overview of the Palmer Penguins dataset and the key variables it encompasses. "
   ]
  },
  {
   "cell_type": "code",
   "execution_count": 4,
   "metadata": {},
   "outputs": [
    {
     "data": {
      "text/html": [
       "<div>\n",
       "<style scoped>\n",
       "    .dataframe tbody tr th:only-of-type {\n",
       "        vertical-align: middle;\n",
       "    }\n",
       "\n",
       "    .dataframe tbody tr th {\n",
       "        vertical-align: top;\n",
       "    }\n",
       "\n",
       "    .dataframe thead th {\n",
       "        text-align: right;\n",
       "    }\n",
       "</style>\n",
       "<table border=\"1\" class=\"dataframe\">\n",
       "  <thead>\n",
       "    <tr style=\"text-align: right;\">\n",
       "      <th></th>\n",
       "      <th>species</th>\n",
       "      <th>island</th>\n",
       "      <th>bill_length_mm</th>\n",
       "      <th>bill_depth_mm</th>\n",
       "      <th>flipper_length_mm</th>\n",
       "      <th>body_mass_g</th>\n",
       "      <th>sex</th>\n",
       "    </tr>\n",
       "  </thead>\n",
       "  <tbody>\n",
       "    <tr>\n",
       "      <th>0</th>\n",
       "      <td>Adelie</td>\n",
       "      <td>Torgersen</td>\n",
       "      <td>39.1</td>\n",
       "      <td>18.7</td>\n",
       "      <td>181.0</td>\n",
       "      <td>3750.0</td>\n",
       "      <td>MALE</td>\n",
       "    </tr>\n",
       "    <tr>\n",
       "      <th>1</th>\n",
       "      <td>Adelie</td>\n",
       "      <td>Torgersen</td>\n",
       "      <td>39.5</td>\n",
       "      <td>17.4</td>\n",
       "      <td>186.0</td>\n",
       "      <td>3800.0</td>\n",
       "      <td>FEMALE</td>\n",
       "    </tr>\n",
       "    <tr>\n",
       "      <th>2</th>\n",
       "      <td>Adelie</td>\n",
       "      <td>Torgersen</td>\n",
       "      <td>40.3</td>\n",
       "      <td>18.0</td>\n",
       "      <td>195.0</td>\n",
       "      <td>3250.0</td>\n",
       "      <td>FEMALE</td>\n",
       "    </tr>\n",
       "    <tr>\n",
       "      <th>3</th>\n",
       "      <td>Adelie</td>\n",
       "      <td>Torgersen</td>\n",
       "      <td>NaN</td>\n",
       "      <td>NaN</td>\n",
       "      <td>NaN</td>\n",
       "      <td>NaN</td>\n",
       "      <td>NaN</td>\n",
       "    </tr>\n",
       "    <tr>\n",
       "      <th>4</th>\n",
       "      <td>Adelie</td>\n",
       "      <td>Torgersen</td>\n",
       "      <td>36.7</td>\n",
       "      <td>19.3</td>\n",
       "      <td>193.0</td>\n",
       "      <td>3450.0</td>\n",
       "      <td>FEMALE</td>\n",
       "    </tr>\n",
       "    <tr>\n",
       "      <th>...</th>\n",
       "      <td>...</td>\n",
       "      <td>...</td>\n",
       "      <td>...</td>\n",
       "      <td>...</td>\n",
       "      <td>...</td>\n",
       "      <td>...</td>\n",
       "      <td>...</td>\n",
       "    </tr>\n",
       "    <tr>\n",
       "      <th>339</th>\n",
       "      <td>Gentoo</td>\n",
       "      <td>Biscoe</td>\n",
       "      <td>NaN</td>\n",
       "      <td>NaN</td>\n",
       "      <td>NaN</td>\n",
       "      <td>NaN</td>\n",
       "      <td>NaN</td>\n",
       "    </tr>\n",
       "    <tr>\n",
       "      <th>340</th>\n",
       "      <td>Gentoo</td>\n",
       "      <td>Biscoe</td>\n",
       "      <td>46.8</td>\n",
       "      <td>14.3</td>\n",
       "      <td>215.0</td>\n",
       "      <td>4850.0</td>\n",
       "      <td>FEMALE</td>\n",
       "    </tr>\n",
       "    <tr>\n",
       "      <th>341</th>\n",
       "      <td>Gentoo</td>\n",
       "      <td>Biscoe</td>\n",
       "      <td>50.4</td>\n",
       "      <td>15.7</td>\n",
       "      <td>222.0</td>\n",
       "      <td>5750.0</td>\n",
       "      <td>MALE</td>\n",
       "    </tr>\n",
       "    <tr>\n",
       "      <th>342</th>\n",
       "      <td>Gentoo</td>\n",
       "      <td>Biscoe</td>\n",
       "      <td>45.2</td>\n",
       "      <td>14.8</td>\n",
       "      <td>212.0</td>\n",
       "      <td>5200.0</td>\n",
       "      <td>FEMALE</td>\n",
       "    </tr>\n",
       "    <tr>\n",
       "      <th>343</th>\n",
       "      <td>Gentoo</td>\n",
       "      <td>Biscoe</td>\n",
       "      <td>49.9</td>\n",
       "      <td>16.1</td>\n",
       "      <td>213.0</td>\n",
       "      <td>5400.0</td>\n",
       "      <td>MALE</td>\n",
       "    </tr>\n",
       "  </tbody>\n",
       "</table>\n",
       "<p>344 rows × 7 columns</p>\n",
       "</div>"
      ],
      "text/plain": [
       "    species     island  bill_length_mm  bill_depth_mm  flipper_length_mm  \\\n",
       "0    Adelie  Torgersen            39.1           18.7              181.0   \n",
       "1    Adelie  Torgersen            39.5           17.4              186.0   \n",
       "2    Adelie  Torgersen            40.3           18.0              195.0   \n",
       "3    Adelie  Torgersen             NaN            NaN                NaN   \n",
       "4    Adelie  Torgersen            36.7           19.3              193.0   \n",
       "..      ...        ...             ...            ...                ...   \n",
       "339  Gentoo     Biscoe             NaN            NaN                NaN   \n",
       "340  Gentoo     Biscoe            46.8           14.3              215.0   \n",
       "341  Gentoo     Biscoe            50.4           15.7              222.0   \n",
       "342  Gentoo     Biscoe            45.2           14.8              212.0   \n",
       "343  Gentoo     Biscoe            49.9           16.1              213.0   \n",
       "\n",
       "     body_mass_g     sex  \n",
       "0         3750.0    MALE  \n",
       "1         3800.0  FEMALE  \n",
       "2         3250.0  FEMALE  \n",
       "3            NaN     NaN  \n",
       "4         3450.0  FEMALE  \n",
       "..           ...     ...  \n",
       "339          NaN     NaN  \n",
       "340       4850.0  FEMALE  \n",
       "341       5750.0    MALE  \n",
       "342       5200.0  FEMALE  \n",
       "343       5400.0    MALE  \n",
       "\n",
       "[344 rows x 7 columns]"
      ]
     },
     "execution_count": 4,
     "metadata": {},
     "output_type": "execute_result"
    }
   ],
   "source": [
    "# Let's have a general look to the data set. \n",
    "df"
   ]
  },
  {
   "cell_type": "code",
   "execution_count": 5,
   "metadata": {},
   "outputs": [
    {
     "name": "stdout",
     "output_type": "stream",
     "text": [
      "<class 'pandas.core.frame.DataFrame'>\n",
      "RangeIndex: 344 entries, 0 to 343\n",
      "Data columns (total 7 columns):\n",
      " #   Column             Non-Null Count  Dtype  \n",
      "---  ------             --------------  -----  \n",
      " 0   species            344 non-null    object \n",
      " 1   island             344 non-null    object \n",
      " 2   bill_length_mm     342 non-null    float64\n",
      " 3   bill_depth_mm      342 non-null    float64\n",
      " 4   flipper_length_mm  342 non-null    float64\n",
      " 5   body_mass_g        342 non-null    float64\n",
      " 6   sex                333 non-null    object \n",
      "dtypes: float64(4), object(3)\n",
      "memory usage: 18.9+ KB\n"
     ]
    }
   ],
   "source": [
    "# Display the basics information about this dataset.\n",
    "df.info()"
   ]
  },
  {
   "cell_type": "code",
   "execution_count": 9,
   "metadata": {},
   "outputs": [
    {
     "data": {
      "text/html": [
       "<div>\n",
       "<style scoped>\n",
       "    .dataframe tbody tr th:only-of-type {\n",
       "        vertical-align: middle;\n",
       "    }\n",
       "\n",
       "    .dataframe tbody tr th {\n",
       "        vertical-align: top;\n",
       "    }\n",
       "\n",
       "    .dataframe thead th {\n",
       "        text-align: right;\n",
       "    }\n",
       "</style>\n",
       "<table border=\"1\" class=\"dataframe\">\n",
       "  <thead>\n",
       "    <tr style=\"text-align: right;\">\n",
       "      <th></th>\n",
       "      <th>bill_length_mm</th>\n",
       "      <th>bill_depth_mm</th>\n",
       "      <th>flipper_length_mm</th>\n",
       "      <th>body_mass_g</th>\n",
       "    </tr>\n",
       "  </thead>\n",
       "  <tbody>\n",
       "    <tr>\n",
       "      <th>count</th>\n",
       "      <td>342.000000</td>\n",
       "      <td>342.000000</td>\n",
       "      <td>342.000000</td>\n",
       "      <td>342.000000</td>\n",
       "    </tr>\n",
       "    <tr>\n",
       "      <th>mean</th>\n",
       "      <td>43.921930</td>\n",
       "      <td>17.151170</td>\n",
       "      <td>200.915205</td>\n",
       "      <td>4201.754386</td>\n",
       "    </tr>\n",
       "    <tr>\n",
       "      <th>std</th>\n",
       "      <td>5.459584</td>\n",
       "      <td>1.974793</td>\n",
       "      <td>14.061714</td>\n",
       "      <td>801.954536</td>\n",
       "    </tr>\n",
       "    <tr>\n",
       "      <th>min</th>\n",
       "      <td>32.100000</td>\n",
       "      <td>13.100000</td>\n",
       "      <td>172.000000</td>\n",
       "      <td>2700.000000</td>\n",
       "    </tr>\n",
       "    <tr>\n",
       "      <th>25%</th>\n",
       "      <td>39.225000</td>\n",
       "      <td>15.600000</td>\n",
       "      <td>190.000000</td>\n",
       "      <td>3550.000000</td>\n",
       "    </tr>\n",
       "    <tr>\n",
       "      <th>50%</th>\n",
       "      <td>44.450000</td>\n",
       "      <td>17.300000</td>\n",
       "      <td>197.000000</td>\n",
       "      <td>4050.000000</td>\n",
       "    </tr>\n",
       "    <tr>\n",
       "      <th>75%</th>\n",
       "      <td>48.500000</td>\n",
       "      <td>18.700000</td>\n",
       "      <td>213.000000</td>\n",
       "      <td>4750.000000</td>\n",
       "    </tr>\n",
       "    <tr>\n",
       "      <th>max</th>\n",
       "      <td>59.600000</td>\n",
       "      <td>21.500000</td>\n",
       "      <td>231.000000</td>\n",
       "      <td>6300.000000</td>\n",
       "    </tr>\n",
       "  </tbody>\n",
       "</table>\n",
       "</div>"
      ],
      "text/plain": [
       "       bill_length_mm  bill_depth_mm  flipper_length_mm  body_mass_g\n",
       "count      342.000000     342.000000         342.000000   342.000000\n",
       "mean        43.921930      17.151170         200.915205  4201.754386\n",
       "std          5.459584       1.974793          14.061714   801.954536\n",
       "min         32.100000      13.100000         172.000000  2700.000000\n",
       "25%         39.225000      15.600000         190.000000  3550.000000\n",
       "50%         44.450000      17.300000         197.000000  4050.000000\n",
       "75%         48.500000      18.700000         213.000000  4750.000000\n",
       "max         59.600000      21.500000         231.000000  6300.000000"
      ]
     },
     "execution_count": 9,
     "metadata": {},
     "output_type": "execute_result"
    }
   ],
   "source": [
    "#Describe data set. \n",
    "df.describe()"
   ]
  },
  {
   "cell_type": "code",
   "execution_count": 11,
   "metadata": {},
   "outputs": [
    {
     "data": {
      "text/plain": [
       "species                 Adelie\n",
       "island               Torgersen\n",
       "bill_length_mm            39.5\n",
       "bill_depth_mm             17.4\n",
       "flipper_length_mm        186.0\n",
       "body_mass_g             3800.0\n",
       "sex                     FEMALE\n",
       "Name: 1, dtype: object"
      ]
     },
     "execution_count": 11,
     "metadata": {},
     "output_type": "execute_result"
    }
   ],
   "source": [
    "# Look at the second row.\n",
    "df.iloc[1]"
   ]
  },
  {
   "cell_type": "code",
   "execution_count": 32,
   "metadata": {},
   "outputs": [
    {
     "name": "stdout",
     "output_type": "stream",
     "text": [
      "Available columns:\n",
      "Index(['species', 'island', 'bill_length_mm', 'bill_depth_mm',\n",
      "       'flipper_length_mm', 'body_mass_g', 'sex'],\n",
      "      dtype='object')\n"
     ]
    }
   ],
   "source": [
    "# Display the list of columns in the dataset\n",
    "print(\"Available columns:\")\n",
    "print(df.columns)"
   ]
  },
  {
   "cell_type": "code",
   "execution_count": 6,
   "metadata": {},
   "outputs": [
    {
     "name": "stdout",
     "output_type": "stream",
     "text": [
      "\n",
      "Summary Statistics:\n",
      "       species  island  bill_length_mm  bill_depth_mm  flipper_length_mm  \\\n",
      "count      344     344      342.000000     342.000000         342.000000   \n",
      "unique       3       3             NaN            NaN                NaN   \n",
      "top     Adelie  Biscoe             NaN            NaN                NaN   \n",
      "freq       152     168             NaN            NaN                NaN   \n",
      "mean       NaN     NaN       43.921930      17.151170         200.915205   \n",
      "std        NaN     NaN        5.459584       1.974793          14.061714   \n",
      "min        NaN     NaN       32.100000      13.100000         172.000000   \n",
      "25%        NaN     NaN       39.225000      15.600000         190.000000   \n",
      "50%        NaN     NaN       44.450000      17.300000         197.000000   \n",
      "75%        NaN     NaN       48.500000      18.700000         213.000000   \n",
      "max        NaN     NaN       59.600000      21.500000         231.000000   \n",
      "\n",
      "        body_mass_g   sex  \n",
      "count    342.000000   333  \n",
      "unique          NaN     2  \n",
      "top             NaN  MALE  \n",
      "freq            NaN   168  \n",
      "mean    4201.754386   NaN  \n",
      "std      801.954536   NaN  \n",
      "min     2700.000000   NaN  \n",
      "25%     3550.000000   NaN  \n",
      "50%     4050.000000   NaN  \n",
      "75%     4750.000000   NaN  \n",
      "max     6300.000000   NaN  \n"
     ]
    }
   ],
   "source": [
    "# Display basics statistics of the dataset\n",
    "summary_stats = df.describe(include='all')\n",
    "print(\"\\nSummary Statistics:\")\n",
    "print(summary_stats)"
   ]
  },
  {
   "cell_type": "markdown",
   "metadata": {},
   "source": [
    "### Species\n",
    "- This dataset includes three species of penguins: Adelie, Chinstrap, and Gentoo. \n",
    "- The majority of penguins included in this dataset are of the Adelie species. \n"
   ]
  },
  {
   "cell_type": "code",
   "execution_count": 13,
   "metadata": {},
   "outputs": [
    {
     "data": {
      "text/plain": [
       "0      Adelie\n",
       "1      Adelie\n",
       "2      Adelie\n",
       "3      Adelie\n",
       "4      Adelie\n",
       "        ...  \n",
       "339    Gentoo\n",
       "340    Gentoo\n",
       "341    Gentoo\n",
       "342    Gentoo\n",
       "343    Gentoo\n",
       "Name: species, Length: 344, dtype: object"
      ]
     },
     "execution_count": 13,
     "metadata": {},
     "output_type": "execute_result"
    }
   ],
   "source": [
    "# Species of penguins.\n",
    "df[\"species\"]"
   ]
  },
  {
   "cell_type": "markdown",
   "metadata": {},
   "source": [
    "### Island of origin\n",
    "- Penguins are observed on three islands: Togersen, Biscoe, and Dream. \n",
    "- The distribution of penguins among the islands is not uniform."
   ]
  },
  {
   "cell_type": "code",
   "execution_count": 12,
   "metadata": {},
   "outputs": [
    {
     "data": {
      "text/plain": [
       "0      Torgersen\n",
       "1      Torgersen\n",
       "2      Torgersen\n",
       "3      Torgersen\n",
       "4      Torgersen\n",
       "         ...    \n",
       "339       Biscoe\n",
       "340       Biscoe\n",
       "341       Biscoe\n",
       "342       Biscoe\n",
       "343       Biscoe\n",
       "Name: island, Length: 344, dtype: object"
      ]
     },
     "execution_count": 12,
     "metadata": {},
     "output_type": "execute_result"
    }
   ],
   "source": [
    "# Look at the island the penguins come from. \n",
    "df[\"island\"]"
   ]
  },
  {
   "cell_type": "markdown",
   "metadata": {},
   "source": [
    "### Sex of penguins\n",
    "- The dataset includes information about the sex of the penguins observed, by dividing the sex into two categories: MALE, and FEMALE."
   ]
  },
  {
   "cell_type": "code",
   "execution_count": 15,
   "metadata": {},
   "outputs": [
    {
     "data": {
      "text/plain": [
       "0        MALE\n",
       "1      FEMALE\n",
       "2      FEMALE\n",
       "3         NaN\n",
       "4      FEMALE\n",
       "        ...  \n",
       "339       NaN\n",
       "340    FEMALE\n",
       "341      MALE\n",
       "342    FEMALE\n",
       "343      MALE\n",
       "Name: sex, Length: 344, dtype: object"
      ]
     },
     "execution_count": 15,
     "metadata": {},
     "output_type": "execute_result"
    }
   ],
   "source": [
    "# Sex of penguins\n",
    "df[\"sex\"]"
   ]
  },
  {
   "cell_type": "markdown",
   "metadata": {},
   "source": [
    "### Body mass of penguins\n",
    "- The body mass of penguins analyzed within this dataset ranges form 2700g to 6300g. "
   ]
  },
  {
   "cell_type": "code",
   "execution_count": 10,
   "metadata": {},
   "outputs": [
    {
     "data": {
      "text/plain": [
       "body_mass_g\n",
       "3800.0    12\n",
       "3700.0    11\n",
       "3900.0    10\n",
       "3950.0    10\n",
       "3550.0     9\n",
       "          ..\n",
       "4475.0     1\n",
       "3975.0     1\n",
       "3575.0     1\n",
       "3850.0     1\n",
       "5750.0     1\n",
       "Name: count, Length: 94, dtype: int64"
      ]
     },
     "execution_count": 10,
     "metadata": {},
     "output_type": "execute_result"
    }
   ],
   "source": [
    "# Count the body mass of penguins. \n",
    "df[\"body_mass_g\"].value_counts()"
   ]
  },
  {
   "cell_type": "markdown",
   "metadata": {},
   "source": [
    "***************************\n"
   ]
  },
  {
   "cell_type": "markdown",
   "metadata": {},
   "source": [
    "## Types of variables\n",
    "\n",
    "In this section, I will explore and suggest the types of variables that should be used to model the variables in the Palmer Penguin dataset in Python. Along with each variable, I will explain the rationale behind the choice and cite the material I used in my research. I will delve into practical examples using some of the variables discussed previously. These examples aim to provide a hands-on understanding of how these variables can be effectively utilized in modeling the Palmer Penguin dataset in Python. By showcasing real-world applications, I hope to demonstrate the significance of each variable and its role in data analysis."
   ]
  },
  {
   "cell_type": "markdown",
   "metadata": {},
   "source": [
    "### Species\n",
    "This section explores the variable \"species\" withing the Palmer Penguin dataset. In the previous section an overview of this variable has been shortly explored.\n",
    "\n",
    "The species of penguins observed in the Palmer Penguin dataset are categorized into three main groups: Adelie, Chinstrap, and Ghentoo. You may find an introduction of Palmer Penguins dataset at this link [Palmer Penguins Intro](https://allisonhorst.github.io/palmerpenguins/articles/intro.html#:~:text=The%20palmerpenguins%20data%20contains%20size,Linux%20is%20named%20after%20penguins!).\n",
    "\n",
    "#### Type of variable suggested\n",
    "The name species included in this datased are defined as *categorical labels* representing distinct categories. Therefore, utilizing a **string data type** in this case would be the most suitable approack for modeling this variable in Python. \n",
    "\n",
    "#### Rationale\n",
    "By categorizing the names of species as strings,  we can accurately capture their unique identities without suggesting any hierarchical order among them. String data types, in fact, could allow us to maintain the integrity of the name of species individually, and at the same type simplifying their idendification within the dataset. \n",
    "Utilizing a categorical data type in Python helps us to conduct different analysis and visualization adapted to differet species categories. For instance, we can calculate propotions, visualize species distribution across different variables, create an array of species names. count occurrences for each species in the dataset. See examples below. \n"
   ]
  },
  {
   "cell_type": "code",
   "execution_count": 1,
   "metadata": {},
   "outputs": [
    {
     "name": "stdout",
     "output_type": "stream",
     "text": [
      "['Adelie' 'Chinstrap' 'Gentoo']\n"
     ]
    }
   ],
   "source": [
    "# Array of species names. This array can be used for filtering, sorting, and so on. \n",
    "import numpy as np\n",
    "\n",
    "#Define array of names of species\n",
    "names_species = np.array([\"Adelie\", \"Chinstrap\", \"Gentoo\"])\n",
    "\n",
    "#Print array \n",
    "print(names_species)"
   ]
  },
  {
   "cell_type": "code",
   "execution_count": 47,
   "metadata": {},
   "outputs": [
    {
     "name": "stdout",
     "output_type": "stream",
     "text": [
      "Counts species: \n",
      "species\n",
      "Adelie       152\n",
      "Gentoo       124\n",
      "Chinstrap     68\n",
      "Name: count, dtype: int64\n"
     ]
    }
   ],
   "source": [
    "# Count occurrences of each species in the Dataset\n",
    "counts_species = df[\"species\"].value_counts()\n",
    "print(\"Counts species: \")\n",
    "print(counts_species)"
   ]
  },
  {
   "cell_type": "markdown",
   "metadata": {},
   "source": [
    "#### Literature:\n",
    "- Alabuda, A. (2022). Classification and EDA - Palmer Penguins. Kaggle. [Link here](https://www.kaggle.com/code/alabuda/classification-and-eda-palmer-penguins)\n",
    "- Analytics Vidhya. (2022, April). Data Exploration and Visualization using Palmer Penguins Dataset. [Link here](https://www.analyticsvidhya.com/blog/2022/04/data-exploration-and-visualisation-using-palmer-penguins-dataset/)\n",
    "- Horst, A. (2020, November 30). Introduction to palmerpenguins. GitHub [Link here](https://allisonhorst.github.io/palmerpenguins/articles/intro.html#:~:text=The%20palmerpenguins%20data%20contains%20size,Linux%20is%20named%20after%20penguins!)\n",
    "- Google Developers. (n.d.). Python Strings. [Link here](https://developers.google.com/edu/python/strings)\n",
    "- JavaTpoint. (N/A). Categorical Variable in Python. [Link here](https://www.javatpoint.comcategorical-variable-in-python#:~:text=In%20Python%2C%20a%20categorical%20variable,as%20nominal%20variables%20or%20factors.)\n",
    "- Lutz, M. (2009). Learning Python. O'Reilly Media.\n",
    "- Twomey, M. (2022, July 12). Exploring Palmer Penguins. [Link here](https://rpubs.com/michelle10128/923430)\n",
    "- NumPy Contributors. (n.d.). [Link here](https://numpy.org/doc/stable/)\n",
    "- Real Python. (n.d.). Python Variables: Defining, Assigning, and Using Variables in Python. [Link here](https://realpython.com/python-variables/)\n",
    "- Statistics Canada. (n.d.). Introduction to probability - Variables. [Link here](https://www150.statcan.gc.ca/n1/edu/power-pouvoir/ch8/5214817-eng.htm)\n",
    "- Yale University Department of Statistics. (1997-98). Categorical Data. [Link here](http://www.stat.yale.edu/Courses/1997-98/101/catdat.htm)\n",
    "- VanderPlas, J. (2016). Python Data Science Handbook. O'Reilly Media. [Link here](https://jakevdp.github.io/PythonDataScienceHandbook/)"
   ]
  },
  {
   "cell_type": "markdown",
   "metadata": {},
   "source": [
    "### Island of Origin\n",
    "This section focuses on the variable \"island of origin\" within the Palmer Penguin dataset. A brief overview of this variable has been provided in the preceding section.\n",
    "\n",
    "The dataset categorizes the islands where penguins were observed into three main groups: Torgersen, Biscoe, and Dream. \n",
    "\n",
    "#### Type of Variable Suggested\n",
    "Similar to the \"species\" variable, the \"island of origin\" variable can be appropriately modeled as a *categorical label* representing distinct categories. Therefore, utilizing a **string data type** for this variable in Python would be the most suitable approach.\n",
    "\n",
    "#### Rationale \n",
    "Categorizing the islands of origin as strings allows us to accurately capture their unique identities without implying any hierarchical order among them. Using string data types enables us to maintain the integrity of each island name individually while facilitating their identification within the dataset. Utilizing a categorical data type in Python facilitates various analyses and visualizations tailored to different island categories. For example, we can calculate proportions, visualize island distribution across different variables, create an array of island names, and count occurrences for each island in the dataset.\n",
    "\n",
    "Below is an example demonstrating the creation of an array of island names first, and the calculation of occurrences for each island in the dataset right after:\n"
   ]
  },
  {
   "cell_type": "code",
   "execution_count": 10,
   "metadata": {},
   "outputs": [
    {
     "name": "stdout",
     "output_type": "stream",
     "text": [
      "Unique islands: ['Biscoe' 'Dream' 'Torgersen']\n"
     ]
    }
   ],
   "source": [
    "# Create an array of island names\n",
    "\n",
    "# Use the unique numpy function\n",
    "# This function allow us to find the unique elements of an array and returns the sorted unique elements of an array\n",
    "array_islands = df['island'].to_numpy()\n",
    "unique_islands = np.unique(array_islands)\n",
    "\n",
    "# Display the array\n",
    "print(\"Unique islands:\", unique_islands)"
   ]
  },
  {
   "cell_type": "code",
   "execution_count": 11,
   "metadata": {},
   "outputs": [
    {
     "name": "stdout",
     "output_type": "stream",
     "text": [
      "Occurrences of each island:\n",
      "island\n",
      "Biscoe       168\n",
      "Dream        124\n",
      "Torgersen     52\n",
      "Name: count, dtype: int64\n"
     ]
    }
   ],
   "source": [
    "# Count occurrences of each island in the dataset\n",
    "island_counts = df['island'].value_counts()\n",
    "\n",
    "# Print out the result\n",
    "print(\"Occurrences of each island:\")\n",
    "print(island_counts)"
   ]
  },
  {
   "cell_type": "markdown",
   "metadata": {},
   "source": [
    "#### Literature\n",
    "- Alabuda, A. (2022). Classification and EDA - Palmer Penguins. Kaggle. [Link here](https://www.kaggle.com/code/alabuda/classification-and-eda-palmer-penguins)\n",
    "- Analytics Vidhya. (2022, April). Data Exploration and Visualization using Palmer Penguins Dataset. [Link here](https://www.analyticsvidhya.com/blog/2022/04/data-exploration-and-visualisation-using-palmer-penguins-dataset/)\n",
    "- Horst, A. (2020, November 30). Introduction to palmerpenguins. GitHub [Link here](https://allisonhorst.github.io/palmerpenguins/articles/intro.html#:~:text=The%20palmerpenguins%20data%20contains%20size,Linux%20is%20named%20after%20penguins!)\n",
    "- NumPy Contributors. (n.d.). Array manipulation routines — NumPy v1.21 Manual. [Link here](https://numpy.org/doc/stable/reference/routines.array-manipulation.html)\n",
    "- VanderPlas, J. (2016). Python Data Science Handbook. O'Reilly Media. [Link here](https://jakevdp.github.io/PythonDataScienceHandbook/)\n",
    "- W3Resource. (n.d.). NumPy: Array manipulation - numpy.unique(). [Link here](https://www.w3resource.com/numpy/manipulation/unique.php)"
   ]
  },
  {
   "cell_type": "markdown",
   "metadata": {},
   "source": [
    "### Sex of penguins\n",
    "The variable \"sex\" in the Palmer Penguin dataset represents the gender of the penguins observed, categorized as either \"male\" or \"female\". This variable provides insight into the gender distribution among the penguin population studied.\n",
    "\n",
    "#### Type of Variable Suggested\n",
    "The \"sex\" variable is a *categorical variable*, as it consists of distinct categories with no inherent order or magnitude. Therefore, utilizing a **string data type** for this variable in Python would be a suitable approach. By representing \"male\" and \"female\" as strings, we preserve the clarity of the categories and enable easy identification within the dataset.\n",
    "\n",
    "#### Rationale for String Data Type\n",
    "Clarity and Interpretability: Using strings such as \"male\" and \"female\" provides clear and interpretable labels for the categories, enhancing the readability of the dataset.\n",
    "Ease of Identification: Representing sex as strings allows for easy identification and understanding of the categories without the need for additional encoding or decoding.\n",
    "\n",
    "Below are examples demonstrating this approach approaches:"
   ]
  },
  {
   "cell_type": "code",
   "execution_count": 34,
   "metadata": {},
   "outputs": [
    {
     "name": "stdout",
     "output_type": "stream",
     "text": [
      "Sex distribution:\n",
      "sex\n",
      "MALE      168\n",
      "FEMALE    165\n",
      "Name: count, dtype: int64\n"
     ]
    }
   ],
   "source": [
    "# Using string data varibale to manipulate \"sex\"\n",
    "\n",
    "# Perform frequency count of the 'sex' variable\n",
    "sex_counts = df['sex'].value_counts()\n",
    "\n",
    "# Display the frequency count\n",
    "print(\"Sex distribution:\")\n",
    "print(sex_counts)"
   ]
  },
  {
   "cell_type": "code",
   "execution_count": 40,
   "metadata": {},
   "outputs": [
    {
     "data": {
      "text/plain": [
       "Text(0, 0.5, 'Frequency')"
      ]
     },
     "execution_count": 40,
     "metadata": {},
     "output_type": "execute_result"
    },
    {
     "data": {
      "image/png": "[encoded data removed]",
      "text/plain": [
       "<Figure size 640x480 with 1 Axes>"
      ]
     },
     "metadata": {},
     "output_type": "display_data"
    }
   ],
   "source": [
    "# Plot a bar chart of the frequency count of 'sex' variable\n",
    "df['sex'].value_counts().plot(kind='bar')\n",
    "# Set the title of the plot\n",
    "plt.title('Frequency Count of Penguin Sex')\n",
    "# Set the label for the x-axis\n",
    "plt.xlabel('Sex')\n",
    "# Set the label for the y-axis\n",
    "plt.ylabel('Frequency')"
   ]
  },
  {
   "cell_type": "markdown",
   "metadata": {},
   "source": [
    "#### Literature\n",
    "- Erondu, F. (2022, November 7). Visualizing the PalmerPenguins Dataset. Medium. [Link here](https://medium.com/@Fortune_/visualizing-the-palmerpenguins-dataset-d3d70bb619b4)\n",
    "- Matplotlib. (Year unavailable). matplotlib.pyplot.bar Documentation.[Link here](https://matplotlib.org/stable/api/_as_gen/matplotlib.pyplot.bar.html)\n",
    "- Pandey, P. (2020). Five Ways to Use value_counts. Kaggle. [link here](https://www.kaggle.com/code/parulpandey/five-ways-to-use-value-counts)\n",
    "- Solomon, B. (2018, February 28). Python Plotting With Matplotlib (Guide). [Link here](https://realpython.com/python-matplotlib-guide/)\n",
    "- VanderPlas, J. (2016). Python Data Science Handbook. O'Reilly Media. [Link here](https://jakevdp.github.io/PythonDataScienceHandbook/)"
   ]
  },
  {
   "cell_type": "markdown",
   "metadata": {},
   "source": [
    "### Body mass of penguins\n",
    "This section focuses on the variable \"body mass\" within the Palmer Penguin dataset. The body mass represents the weight of the penguins observed, measured in grams.\n",
    "\n",
    "#### Type of variable suggested \n",
    "The \"body mass\" variable is typically modeled as a *continuous numerical variable*. Therefore, utilizing a **float data type** for this variable in Python would be the most suitable approach.\n",
    "\n",
    "#### Rationale\n",
    "Representing body mass as a float allows us to capture the precise numerical values of the weights of penguins. Utilizing a continuous numerical data type enables us to perform various statistical analyses and computations, such as calculating means, medians, standard deviations, and conducting regression analyses. \n",
    "\n",
    "Below an example focused calculating the descriptive statistics of penguins body mass first, and susequenly an example plotting the distribution of body mass using a histogram:"
   ]
  },
  {
   "cell_type": "code",
   "execution_count": null,
   "metadata": {},
   "outputs": [],
   "source": [
    "# Extract body mass data\n",
    "body_mass = df['body_mass_g']\n",
    "\n",
    "# Calculate descriptive statistics\n",
    "\n",
    "# The mean is sum of all values divided by how many values there are\n",
    "mean_mass = body_mass.mean()\n",
    "# The median is the middle data point when the dataset is arranged in order from smallest to largest.\n",
    "median_mass = body_mass.median()\n",
    "# The mode is the value in the dataset that appears most.\n",
    "mode_mass = body_mass.mode()[0]\n",
    "# The standard deviation measures how spread out the data is.\n",
    "std_mass = body_mass.std()\n",
    "\n",
    "# Print descriptive statistics\n",
    "print(\"Descriptive Statistics for Body Mass:\")\n",
    "print(f\"Mean: {mean_mass:.2f} g\")\n",
    "print(f\"Median: {median_mass:.2f} g\")\n",
    "print(f\"Mode: {mode_mass:.2f} g\")\n",
    "print(f\"Standard Deviation: {std_mass:.2f} g\")"
   ]
  },
  {
   "cell_type": "code",
   "execution_count": 25,
   "metadata": {},
   "outputs": [
    {
     "data": {
      "image/png": "[encoded data removed]",
      "text/plain": [
       "<Figure size 640x480 with 1 Axes>"
      ]
     },
     "metadata": {},
     "output_type": "display_data"
    }
   ],
   "source": [
    "# Plot histogram of body mass\n",
    "\n",
    "# Import matplotlib library\n",
    "import matplotlib.pyplot as plt\n",
    "\n",
    "# Both pandas and the penguin dataset have been imported previously.\n",
    "# We need to define body mass in the dataset first.\n",
    "body_mass = df['body_mass_g']  # Assuming 'body_mass_g' is the column name for body mass in grams\n",
    "\n",
    "# Set the number of bins for the histogram\n",
    "bins = 20\n",
    "\n",
    "# Create a histogram of the body mass data with the specified number of bins\n",
    "plt.hist(body_mass, bins=bins, edgecolor=\"black\") # I added the edge color to have columns more defined\n",
    "\n",
    "# Label x-axis as Body Mass (grams)\n",
    "plt.xlabel('Body Mass (g)')\n",
    "\n",
    "# Label y-axis as Frequency\n",
    "plt.ylabel('Frequency')\n",
    "\n",
    "# Add title to the plot\n",
    "plt.title('Distribution of Body Mass')\n",
    "\n",
    "# Display the plot\n",
    "plt.show()\n"
   ]
  },
  {
   "cell_type": "markdown",
   "metadata": {},
   "source": [
    "### Literature\n",
    "- Banerjee, P. (2019). Descriptive Statistics with Python Project. Gist. [Link here](https://gist.github.com/pb111/512c840affb32593d28573fbb764045b)\n",
    "- Field, A. (2018). Discovering Statistics Using IBM SPSS Statistics (Fifth Edition). Sage Publications Ltd.\n",
    "- Franzese, M., & Iuliano, A. (2019). Descriptive Statistics. Elsevier. [Link here](https://iris.unibas.it/retrieve/d07de51c-aa20-4def-8d07-70a96ec694e6/2019_Descriptive%20Statistics_Elsevier.pdf)\n",
    "- Goldberg, D. (1991). What Every Computer Scientist Should Know About Floating-Point Arithmetic. ACM Computing Surveys, 23(1), 5-48.\n",
    "- Matplotlib Development Team. (n.d.). Histograms. Matplotlib [Link here](https://matplotlib.org/stable/gallery/statistics/hist.html)\n",
    "- Matplotlib Development Team. (n.d.). matplotlib.pyplot.hist. Matplotlib. [Link here](https://matplotlib.org/stable/api/_as_gen/matplotlib.pyplot.hist.html)\n",
    "- Simplilearn. (n.d.). Python Float: Examples and Basic Guide. [Link here](https://www.simplilearn.com/tutorials/python-tutorial/float-in-python#:~:text=Float%20is%20an%20important%20mathematical,values%20and%20not%20on%20characters.&text=The%20inbuilt%20function%2C%20float(),%E2%80%9D%2C%20%E2%80%9Cand%20infinity%E2%80%9D.)\n",
    "- Solomon, B. (2018, February 28). Python Plotting With Matplotlib (Guide). [Link here](https://realpython.com/python-matplotlib-guide/)\n",
    "- Stojiljković, M. (2019, December 16). Python Statistics Fundamentals: How to Describe Your Data. Real Python.[Link here](https://realpython.com/python-statistics/)\n"
   ]
  },
  {
   "cell_type": "markdown",
   "metadata": {},
   "source": [
    "### Integers in the Palemer Penguins dataset\n",
    "In the Palmer Penguins dataset, most of the variables are either categorical or continuous numerical variables. The continuous numerical variables, such as 'bill_length_mm', 'bill_depth_mm', 'flipper_length_mm', and 'body_mass_g', are typically modeled as floats due to their nature of representing measurements with decimal precision. Categorical variables like 'species', 'island', and 'sex' are commonly represented as strings or objects.\n",
    "\n",
    "**The usage of integers in this dataset is limited, primarily because the dataset consists of mostly categorical and continuous numerical variables.** While integers could potentially be used for encoding categorical variables to facilitate certain analyses, there are few suitable candidates for this approach in the Palmer Penguins dataset. The only viable candidate for integer usage is the 'sex' variable.\n",
    "\n",
    "To utilize integers with the 'sex' variable, one approach is to encode it in binary, where 'male' is represented as 0 and 'female' as 1. This binary encoding enables performing certain mathematical operations and analyses, such as calculating proportions or conducting statistical tests. However, this approach can introduce challenges, especially when dealing with missing or inconsistent data in the 'sex' column.\n",
    "\n",
    "Example of encoding 'sex' variable in binary:"
   ]
  },
  {
   "cell_type": "code",
   "execution_count": 41,
   "metadata": {},
   "outputs": [],
   "source": [
    "# Perform binary encoding of 'sex': male as 0, female as 1\n",
    "df['sex_encoded'] = df['sex'].map({'male': 0, 'female': 1})"
   ]
  },
  {
   "cell_type": "markdown",
   "metadata": {},
   "source": [
    "\n",
    "After encoding the 'sex' variable as binary integers (0 for male and 1 for female), it may seem intuitive to manipulate it as an integer variable. However, further analysis revealed an issue with missing values in the column, complicating such manipulations. PLease, see data below:"
   ]
  },
  {
   "cell_type": "code",
   "execution_count": 46,
   "metadata": {},
   "outputs": [
    {
     "name": "stdout",
     "output_type": "stream",
     "text": [
      "Missing values in each column:\n",
      "species                0\n",
      "island                 0\n",
      "bill_length_mm         2\n",
      "bill_depth_mm          2\n",
      "flipper_length_mm      2\n",
      "body_mass_g            2\n",
      "sex                   11\n",
      "sex_encoded          344\n",
      "dtype: int64\n"
     ]
    }
   ],
   "source": [
    "# Check for missing values in the dataset\n",
    "missing_values = df.isnull().sum()\n",
    "\n",
    "# Print the count of missing values for each column\n",
    "print(\"Missing values in each column:\")\n",
    "print(missing_values)"
   ]
  },
  {
   "cell_type": "markdown",
   "metadata": {},
   "source": [
    "*************************"
   ]
  },
  {
   "cell_type": "markdown",
   "metadata": {},
   "source": [
    "## Correlation analysis of two variables in the dataset\n",
    "In the exploration of physiological traits of penguins, understanding the relationships between various physical attributes becomes crucial. Among these attributes, body mass and flipper length are of particular interest due to their potential implications in penguin biology. In this analysis, we aim to investigate the correlation between body mass and flipper length in penguins using the Palmer Penguins dataset.\n",
    "\n",
    "We chose 'body_mass_g' (body mass of penguins) and 'flipper_length_mm' (flipper length of penguins) for the following reasons:\n",
    "\n",
    "* These variables represent physical characteristics of penguins that could potentially be related.\n",
    "* Body mass and flipper length are both important measurements in understanding the biology and physiology of penguins.\n",
    "* Exploring the relationship between body mass and flipper length can provide insights into the physical adaptations of penguins."
   ]
  },
  {
   "cell_type": "code",
   "execution_count": 48,
   "metadata": {},
   "outputs": [
    {
     "name": "stdout",
     "output_type": "stream",
     "text": [
      "Correlation coefficient between body mass and flipper length: 0.8712017673060114\n"
     ]
    }
   ],
   "source": [
    "import pandas as pd\n",
    "\n",
    "# Load the dataset\n",
    "df = df = pd.read_csv('https://raw.githubusercontent.com/mwaskom/seaborn-data/master/penguins.csv')\n",
    "\n",
    "# Select the two variables of interest\n",
    "body_mass = df['body_mass_g']\n",
    "flipper_length = df['flipper_length_mm']\n",
    "\n",
    "# Calculate the correlation coefficient\n",
    "correlation_coefficient = body_mass.corr(flipper_length)\n",
    "\n",
    "# Print the correlation coefficient\n",
    "print(\"Correlation coefficient between body mass and flipper length:\", correlation_coefficient)"
   ]
  },
  {
   "cell_type": "markdown",
   "metadata": {},
   "source": [
    "A correlation coefficient of 0.871 indicates a strong positive correlation between body mass and flipper length in the penguins dataset. This means that as the body mass of penguins increases, their flipper length tends to increase as well, and vice versa.\n",
    "\n",
    "Such a high correlation suggests that there is a significant relationship between these two variables, which could be explored further in subsequent analyses or interpretations.\n",
    "\n",
    "To better understand this correlation coefficient, visualizing the data with a scatter plot could help us observe any pattern or trend in their association. Please, see below:"
   ]
  },
  {
   "cell_type": "code",
   "execution_count": 50,
   "metadata": {},
   "outputs": [
    {
     "data": {
      "image/png": "[encoded data removed]",
      "text/plain": [
       "<Figure size 640x480 with 1 Axes>"
      ]
     },
     "metadata": {},
     "output_type": "display_data"
    }
   ],
   "source": [
    "import matplotlib.pyplot as plt\n",
    "\n",
    "\n",
    "# Create a scatter plot to visualize the relationship\n",
    "plt.scatter(body_mass, flipper_length)\n",
    "plt.title('Scatter Plot: Body Mass vs. Flipper Length')\n",
    "plt.xlabel('Body Mass (g)')\n",
    "plt.ylabel('Flipper Length (mm)')\n",
    "plt.show()"
   ]
  },
  {
   "cell_type": "markdown",
   "metadata": {},
   "source": [
    "The scatter diagram illustrates a positive linear relationship between body mass and flipper length of penguins. As body mass increases, flipper length tends to increase as well. This suggests that larger penguins tend to have longer flippers, which could be indicative of certain biological relationships or adaptations."
   ]
  },
  {
   "cell_type": "markdown",
   "metadata": {},
   "source": [
    "### Literature\n",
    "- Canales Luna, J. (2022, February). Python Details on Correlation Tutorial. DataCamp. [Link here](https://www.datacamp.com/tutorial/tutorial-datails-on-correlation)\n",
    "- Field, A. (2018). Discovering Statistics Using IBM SPSS Statistics (Fifth Edition). Sage Publications Ltd.\n",
    "- McKinney, W. (2017). Python for Data Analysis. O'Reilly Media.\n",
    "- Matplotlib. (Year unavailable). Matplotlib.pyplot.scatter Documentation. [Link here](https://matplotlib.org/stable/api/_as_gen/matplotlib.pyplot.scatter.html)\n",
    "- Mazzaroli, C.M. (Year unavailable). Exploratory Data Analysis to Predictive analysis: Palmer Penguins. [Link here](https://deepnote.com/app/mazzaroli/Exploratory-Data-Analysis-to-Predictive-analysis-Palmer-Penguins-e6bd8932-9ca1-4363-b78a-79f4f4dc818f)\n",
    "- Schober, P., Boer, C., & Schwarte, L. A. (Year unavailable). Correlation Coefficients: Appropriate Use and Interpretation.\n",
    "- Stojiljković, M. (2019, December 23). NumPy, SciPy, and pandas: Correlation With Python. Real Python. [Link here](https://realpython.com/numpy-scipy-pandas-correlation-python/)"
   ]
  },
  {
   "cell_type": "markdown",
   "metadata": {},
   "source": [
    "*****\n",
    "## End"
   ]
  }
 ],
 "metadata": {
  "kernelspec": {
   "display_name": "base",
   "language": "python",
   "name": "python3"
  },
  "language_info": {
   "codemirror_mode": {
    "name": "ipython",
    "version": 3
   },
   "file_extension": ".py",
   "mimetype": "text/x-python",
   "name": "python",
   "nbconvert_exporter": "python",
   "pygments_lexer": "ipython3",
   "version": "3.11.5"
  }
 },
 "nbformat": 4,
 "nbformat_minor": 2
}
